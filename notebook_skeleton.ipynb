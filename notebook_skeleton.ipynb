{
 "cells": [
  {
   "attachments": {},
   "cell_type": "markdown",
   "metadata": {},
   "source": [
    "# P&D ISSP 2023 - Base notebook\n",
    "@Students: Edit everything you want!"
   ]
  },
  {
   "attachments": {},
   "cell_type": "markdown",
   "metadata": {},
   "source": [
    "Packages"
   ]
  },
  {
   "cell_type": "code",
   "execution_count": 2,
   "metadata": {},
   "outputs": [],
   "source": [
    "import matplotlib\n",
    "import soundfile\n",
    "import os\n",
    "import package.general as genfcns\n",
    "import package.gui_utils as guifcns\n",
    "matplotlib.style.use('default')  # <-- for notebooks: white figures background\n",
    "\n",
    "# Root path (path to where you are storing this very notebook)\n",
    "#  /!/  Adapt this to your system  /!/ \n",
    "ROOTPATH = 'your/path/to/this/notebook'\n",
    "\n",
    "pathToSoundFiles = f'{ROOTPATH}/sound_files/'\n",
    "\n",
    "# Parameters\n",
    "speechfilenames = [\n",
    "    pathToSoundFiles + 'speech1.wav',\n",
    "    pathToSoundFiles + 'speech2.wav'\n",
    "]\n",
    "noisefilenames = [\n",
    "    pathToSoundFiles + 'Babble_noise1.wav'\n",
    "]\n",
    "signalDuration = 10     # [s]\n",
    "muGSC = 0.1     # NLMS update constant for freq.-domain GSC"
   ]
  },
  {
   "attachments": {},
   "cell_type": "markdown",
   "metadata": {},
   "source": [
    "Build acoustic scenario and generate RIRs using GUI"
   ]
  },
  {
   "cell_type": "code",
   "execution_count": 3,
   "metadata": {},
   "outputs": [
    {
     "name": "stdout",
     "output_type": "stream",
     "text": [
      "Note that the RIRs are sampled at 44100 Hz.\n",
      "PyRoomAcoustics is computing the 10 RIRs...\n",
      "RIRs computed successfully. Saving as Pickle archive.\n",
      "RIRs saved in file: \"rirs_20230214_16h18m05s.pkl.gz\", in folder\n",
      "\"c:\\Users\\pdidier\\Dropbox\\_BELGIUM\\KUL\\Supervision\\Teaching Assistance\\PandD_ISSP\\2023\\python\\pandd2023-base\"\n"
     ]
    },
    {
     "data": {
      "text/plain": [
       "Acoustic scenario object containing the RIRs, with parameters:\n",
       ">> Field \"audioCoords\": [[1.1749999999999998, 4.1499999999999995]]\n",
       ">> Field \"audioIds\": ['20']\n",
       ">> Field \"c\": 340\n",
       ">> Field \"distBwMics\": 10\n",
       ">> Field \"exportFolder\": c:\\Users\\pdidier\\Dropbox\\_BELGIUM\\KUL\\Supervision\\Teaching Assistance\\PandD_ISSP\\2023\\python\\pandd2023-base\n",
       ">> Field \"fs\": 44100\n",
       ">> Field \"lineIds\": [1, 3, 4, 6, 8, 10, 12, 14, 16, 18]\n",
       ">> Field \"lineTextIds\": [2, 5, 7, 9, 11, 13, 15, 17, 19]\n",
       ">> Field \"micsCoords\": [[4.3, 3.15], [4.3, 3.25], [4.3, 3.35], [4.3, 3.4499999999999997], [4.3, 3.55]]\n",
       ">> Field \"micsIds\": ['22', '23', '24', '25', '26']\n",
       ">> Field \"nMicsPerArray\": 5\n",
       ">> Field \"noiseCoords\": [[3.175, 2.3499999999999996]]\n",
       ">> Field \"noiseIds\": ['21']\n",
       ">> Field \"rd\": [5.0, 5.0]\n",
       ">> Field \"rirLength\": 22050\n",
       ">> Field \"roomDim\": 5\n",
       ">> Field \"t60\": 0.0\n",
       ">> Field \"theme\": SystemDefault"
      ]
     },
     "execution_count": 3,
     "metadata": {},
     "output_type": "execute_result"
    }
   ],
   "source": [
    "# Launch GUI\n",
    "guifcns.RIRg_GUI(\n",
    "    exportFolder=f'{os.getcwd()}/rirs',\n",
    "    outputRIRplot=False,\n",
    "    distBwMics=10,  # [cm]\n",
    "    fs=44100,\n",
    "    t60=0,\n",
    "    theme='SystemDefault',\n",
    ")"
   ]
  },
  {
   "attachments": {},
   "cell_type": "markdown",
   "metadata": {},
   "source": [
    "RIRs selection"
   ]
  },
  {
   "cell_type": "code",
   "execution_count": 3,
   "metadata": {},
   "outputs": [
    {
     "name": "stdout",
     "output_type": "stream",
     "text": [
      "Acoustic scenario object containing the RIRs, with parameters:\n",
      ">> Field \"audioCoords\": [[2.875, 4.2]]\n",
      ">> Field \"audioIds\": ['20']\n",
      ">> Field \"c\": 340\n",
      ">> Field \"distBwMics\": 10\n",
      ">> Field \"exportFolder\": ./rirs\n",
      ">> Field \"fs\": 44100\n",
      ">> Field \"lineIds\": [1, 3, 4, 6, 8, 10, 12, 14, 16, 18]\n",
      ">> Field \"lineTextIds\": [2, 5, 7, 9, 11, 13, 15, 17, 19]\n",
      ">> Field \"micsCoords\": [[3.8, 2.6], [3.8, 2.7], [3.8, 2.8000000000000003], [3.8, 2.9], [3.8, 3.0]]\n",
      ">> Field \"micsIds\": ['22', '23', '24', '25', '26']\n",
      ">> Field \"nMicsPerArray\": 5\n",
      ">> Field \"noiseCoords\": [[2.7750000000000004, 1.6500000000000001]]\n",
      ">> Field \"noiseIds\": ['21']\n",
      ">> Field \"rd\": [5.0, 5.0]\n",
      ">> Field \"rirLength\": 22050\n",
      ">> Field \"roomDim\": 5\n",
      ">> Field \"t60\": 0.0\n",
      ">> Field \"theme\": SystemDefault\n",
      "\n"
     ]
    }
   ],
   "source": [
    "# Select RIRs to be used\n",
    "# RIR_FILE = 'rirs/'  # use this to input a specific set of RIRs (full path to .pkl.gz file)\n",
    "RIR_FILE = genfcns.select_latest_rir(path='./rirs/')  # use this to select the lastly generated RIRs\n",
    "# Load from Pickle archive\n",
    "acousticScenario = guifcns.load_rirs(path=RIR_FILE)\n",
    "# Show to user\n",
    "print(acousticScenario)"
   ]
  },
  {
   "cell_type": "code",
   "execution_count": 4,
   "metadata": {},
   "outputs": [],
   "source": [
    "# From here on, it's all up to you..."
   ]
  },
  {
   "attachments": {},
   "cell_type": "markdown",
   "metadata": {},
   "source": [
    "# Signal processing - Week 2: MUSIC algorithm"
   ]
  },
  {
   "cell_type": "code",
   "execution_count": 5,
   "metadata": {},
   "outputs": [
    {
     "name": "stdout",
     "output_type": "stream",
     "text": [
      "Computing DOAs via freq.-domain MUSIC algorithm...\n",
      "All estimated DOAs: [0. 0.]\n",
      "Oracle-selected estimated DOAs: [0.]\n",
      "Target DOAs estimate error(s): [-33.5] deg.\n"
     ]
    },
    {
     "data": {
      "image/png": "[encoded data removed]",
      "text/plain": [
       "<Figure size 850x350 with 1 Axes>"
      ]
     },
     "metadata": {},
     "output_type": "display_data"
    }
   ],
   "source": [
    "import numpy as np\n",
    "\n",
    "winLength = 1024 # Window length\n",
    "nSources = acousticScenario.RIRsAudio.shape[-1] +\\\n",
    "    acousticScenario.RIRsNoise.shape[-1] # Number of sources\n",
    "theta = np.arange(0, np.pi, step=np.pi / 360)  # angles to consider\n",
    "\n",
    "print('Computing DOAs via freq.-domain MUSIC algorithm...')\n",
    "\n",
    "\n",
    "# DOAestAll = yourMUSIC() ...\n",
    "DOAestAll = np.zeros(nSources)  # default\n",
    "\n",
    "\n",
    "print(f'All estimated DOAs: {DOAestAll * 180/np.pi}')\n",
    "\n",
    "# ------------------ DOA estimation performance check ------------------\n",
    "# Oracle selection of the target DOA\n",
    "DOAest, oracleDOAtalkers = genfcns.oracle_choice_doa(\n",
    "    DOAestAll, acousticScenario\n",
    ")\n",
    "print(f'Oracle-selected estimated DOAs: {DOAest * 180/np.pi}')\n",
    "# Check validity\n",
    "genfcns.check_plot_tdoas(DOAest, DOAestAll, acousticScenario)\n",
    "print(f'Target DOAs estimate error(s): {np.round((DOAest - oracleDOAtalkers) * 180/np.pi, 1)} deg.')"
   ]
  }
 ],
 "metadata": {
  "kernelspec": {
   "display_name": "pandd2023_base",
   "language": "python",
   "name": "python3"
  },
  "language_info": {
   "codemirror_mode": {
    "name": "ipython",
    "version": 3
   },
   "file_extension": ".py",
   "mimetype": "text/x-python",
   "name": "python",
   "nbconvert_exporter": "python",
   "pygments_lexer": "ipython3",
   "version": "3.9.16"
  },
  "orig_nbformat": 4,
  "vscode": {
   "interpreter": {
    "hash": "e7a0ad8b473c8fee078164c22852d857dab644a546a0f5edc20c32d4c16b2526"
   }
  }
 },
 "nbformat": 4,
 "nbformat_minor": 2
}
